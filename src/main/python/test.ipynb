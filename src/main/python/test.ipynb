{
 "cells": [
  {
   "cell_type": "code",
   "execution_count": 7,
   "metadata": {},
   "outputs": [],
   "source": [
    "import pandas as pd\n",
    "import re, boto3, string, pymysql\n",
    "from collections import Counter\n",
    "from nltk.corpus import stopwords\n",
    "from nltk.stem import WordNetLemmatizer\n",
    "\n",
    "### 환경변수 불러오기\n",
    "from config import *"
   ]
  },
  {
   "cell_type": "code",
   "execution_count": null,
   "metadata": {},
   "outputs": [],
   "source": [
    "def mysql_conn(HOST, USER, PASSWORD, DB, SQL, CHARSET=\"utf8\"):\n",
    "    conn = pymysql.connect(\n",
    "        host=HOST, user=USER, password=PASSWORD, db=DB, charset=CHARSET\n",
    "    )\n",
    "    try:\n",
    "        with conn.cursor() as cur:\n",
    "            cur.execute(SQL)\n",
    "        \n",
    "    finally:\n",
    "        cur.close()\n",
    "        conn.close()"
   ]
  },
  {
   "cell_type": "code",
   "execution_count": 3,
   "metadata": {},
   "outputs": [],
   "source": [
    "\n",
    "\n",
    "def wc():\n",
    "    conn = pymysql.connect(\n",
    "        host=HOST, user=USER, password=PASSWORD, db=DB, charset=\"utf8\"\n",
    "    )\n",
    "\n",
    "    cur = conn.cursor()\n",
    "    cur.execute(\"select dailydate, ticker, name, news_summary from daily_update\")\n",
    "    result = cur.fetchall()\n",
    "\n",
    "    cur.close()\n",
    "    conn.close()\n",
    "\n",
    "    result_df = pd.DataFrame(result)\n",
    "    result_df.columns = [\"dailydate\", \"ticker\", \"name\", \"news_summary\"]\n",
    "    s3_client = boto3.client(\n",
    "        \"s3\",\n",
    "        aws_access_key_id=AWS_ACCESS_KEY_ID,\n",
    "        aws_secret_access_key=AWS_SECRET_ACCESS_KEY,\n",
    "        region_name=AWS_DEFAULT_REGION,\n",
    "    )\n",
    "\n",
    "    contents = []\n",
    "    for i in range(len(result_df[\"news_summary\"])):\n",
    "        if (result_df[\"news_summary\"][i] == \"None\") or (\n",
    "            (result_df[\"news_summary\"][i] == \"오류 발생\")\n",
    "        ):\n",
    "            content = \"None\"\n",
    "        else:\n",
    "            content = (\n",
    "                s3_client.get_object(\n",
    "                    Bucket=BUCKET_NAME, Key=result_df[\"news_summary\"][i]\n",
    "                )[\"Body\"]\n",
    "                .read()\n",
    "                .decode()\n",
    "            )\n",
    "        contents.append(content)\n",
    "\n",
    "    result_df[\"contents\"] = contents\n",
    "\n",
    "    stop_words = set(stopwords.words(\"english\"))\n",
    "    list_punct = list(string.punctuation)\n",
    "    lemmatizer = WordNetLemmatizer()\n",
    "    token = [\n",
    "        _\n",
    "        for _ in re.sub(\"\\W+\", \" \", result_df[\"contents\"].sum()).split()\n",
    "        if _ not in stop_words\n",
    "    ]\n",
    "    tags = Counter(token).most_common(20)\n",
    "\n",
    "    jd = []\n",
    "    for x, y in tags:\n",
    "        jd.append({\"tag\": x, \"count\": y})\n",
    "\n",
    "    return jd\n"
   ]
  }
 ],
 "metadata": {
  "kernelspec": {
   "display_name": "base",
   "language": "python",
   "name": "python3"
  },
  "language_info": {
   "codemirror_mode": {
    "name": "ipython",
    "version": 3
   },
   "file_extension": ".py",
   "mimetype": "text/x-python",
   "name": "python",
   "nbconvert_exporter": "python",
   "pygments_lexer": "ipython3",
   "version": "3.11.7"
  }
 },
 "nbformat": 4,
 "nbformat_minor": 2
}
